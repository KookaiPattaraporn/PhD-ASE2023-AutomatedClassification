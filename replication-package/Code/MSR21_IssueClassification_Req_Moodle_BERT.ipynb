{
  "nbformat": 4,
  "nbformat_minor": 0,
  "metadata": {
    "colab": {
      "name": "MSR21-IssueClassification-Req-Moodle-BERT.ipynb",
      "provenance": [],
      "collapsed_sections": []
    },
    "kernelspec": {
      "display_name": "Python 3",
      "name": "python3"
    },
    "accelerator": "GPU"
  },
  "cells": [
    {
      "cell_type": "markdown",
      "metadata": {
        "id": "NtEb8a00Bpjn"
      },
      "source": [
        "# Data preprocessing"
      ]
    },
    {
      "cell_type": "markdown",
      "metadata": {
        "id": "F4_3GAmQCB3H"
      },
      "source": [
        "Load dataset"
      ]
    },
    {
      "cell_type": "code",
      "metadata": {
        "id": "7uvKADn_DrcO"
      },
      "source": [
        "from google.colab import drive\n",
        "drive.mount('/content/drive')"
      ],
      "execution_count": null,
      "outputs": []
    },
    {
      "cell_type": "code",
      "metadata": {
        "id": "Itt6YD-1uHbP"
      },
      "source": [
        "!pip install transformers\n",
        "#!pip install --upgrade tensorflow"
      ],
      "execution_count": null,
      "outputs": []
    },
    {
      "cell_type": "code",
      "metadata": {
        "id": "SnkkFPlZuKNS"
      },
      "source": [
        "# Load Huggingface transformers\n",
        "from transformers import TFBertModel,  BertConfig, BertTokenizerFast\n",
        "# Then what you need from tensorflow.keras\n",
        "from tensorflow.keras.layers import Input, Dropout, Dense\n",
        "from tensorflow.keras.models import Model\n",
        "from tensorflow.keras.optimizers import Adam\n",
        "from tensorflow.keras.callbacks import EarlyStopping\n",
        "from tensorflow.keras.initializers import TruncatedNormal\n",
        "from tensorflow.keras.losses import CategoricalCrossentropy, BinaryCrossentropy\n",
        "from tensorflow.keras.metrics import CategoricalAccuracy, BinaryAccuracy\n",
        "from tensorflow.keras.utils import to_categorical\n",
        "\n",
        "import keras.backend as K\n",
        "# And pandas for data import + sklearn because you allways need sklearn\n",
        "import re\n",
        "import pandas as pd\n",
        "import numpy as np\n",
        "from sklearn.model_selection import train_test_split"
      ],
      "execution_count": null,
      "outputs": []
    },
    {
      "cell_type": "code",
      "metadata": {
        "id": "rqi6ZelWuMZB"
      },
      "source": [
        "#Specify input path\n",
        "path = ''\n",
        "\n",
        "#Specify data filename\n",
        "\n",
        "filename = 'Moodle - Issues with labels.csv'\n",
        "project = 'Moodle'\n",
        "\n",
        "#filename = 'Chrome - Issues with labels.csv'\n",
        "#project = 'Chrome'\n",
        "\n",
        "raw = pd.read_csv(path + filename, encoding=\"ISO-8859-1\")"
      ],
      "execution_count": null,
      "outputs": []
    },
    {
      "cell_type": "code",
      "metadata": {
        "id": "lurcJT8atAih"
      },
      "source": [
        "raw = raw.rename(columns={'Issue ID':'ID', 'Issue Summary': 'title', 'Issue Description':'desc'})\n",
        "TOTAL_ISSUE = len(raw)\n",
        "\n",
        "TOTAL_ISSUE"
      ],
      "execution_count": null,
      "outputs": []
    },
    {
      "cell_type": "code",
      "metadata": {
        "id": "VwPxd9flvURn"
      },
      "source": [
        "#Data pre-processing\n",
        "if project == 'Chrome':\n",
        "  print('0')\n",
        "  raw['desc'] = raw['desc'].replace(r'\\n',' ', regex = True)\n",
        "  raw['desc'] = raw['desc'].replace(r'(?:Chrome Version( *): (\\d+\\.*)+\\d+)', '', regex = True)\n",
        "  raw['title'] = raw['title'].replace(r'[^\\x00-\\x7F]', '')\n",
        "  raw['desc'] = raw['desc'].replace(r'[^\\x00-\\x7F]', '')\n",
        "  raw['desc'] = raw['desc'].replace('[^A-Za-z0-9]+', '')\n",
        "  raw['desc'] = raw['desc'].str.replace(r'^https?:\\/\\/.*[\\r\\n]*', ' ')\n",
        "  raw['title'] = raw['title'].replace(r'\\\"', '', regex = True)\n",
        "  raw['desc'] = raw['desc'].replace(r'\\\"', '', regex = True)\n",
        "  raw['desc'] = raw['desc'].str.strip()\n",
        "\n",
        "elif project == 'Moodle':\n",
        "  print('1')\n",
        "  raw['desc'].fillna('None')\n",
        "  raw['desc'] = raw['desc'].replace(r'\\n','', regex = True)\n",
        "  raw['desc'] = raw['desc'].replace('[^A-Za-z0-9]+', ' ')\n",
        "  raw['desc'] = raw['desc'].str.replace(r'^https?:\\/\\/.*[\\r\\n]*', ' ')\n",
        "  raw['desc'] = raw['desc'].str.strip()"
      ],
      "execution_count": null,
      "outputs": []
    },
    {
      "cell_type": "code",
      "metadata": {
        "id": "62RwDRT9vab3"
      },
      "source": [
        "raw"
      ],
      "execution_count": null,
      "outputs": []
    },
    {
      "cell_type": "code",
      "metadata": {
        "id": "_R_1hdp2w-L6"
      },
      "source": [
        "first_label_col = 3\n",
        "last_label_col = 73\n",
        "label_cols = raw.columns[first_label_col:last_label_col+1:]\n",
        "\n",
        "label_cols"
      ],
      "execution_count": null,
      "outputs": []
    },
    {
      "cell_type": "code",
      "metadata": {
        "id": "Phe9RTXhsSlI"
      },
      "source": [
        "import scipy.sparse as sparse\n",
        "\n",
        "NUM_LABEL = 71\n",
        "\n",
        "one_hot_labels = raw.loc[:,label_cols]\n",
        "\n",
        "arr = sparse.coo_matrix(one_hot_labels, shape=(TOTAL_ISSUE,NUM_LABEL))\n"
      ],
      "execution_count": null,
      "outputs": []
    },
    {
      "cell_type": "code",
      "metadata": {
        "id": "vv9nCdAUsTtg"
      },
      "source": [
        "temp = pd.DataFrame(data=None)\n",
        "\n",
        "temp['titledesc'] = raw['title'] + '. ' + raw['desc']\n",
        "temp['one_hot'] = arr.toarray().tolist()\n",
        "\n",
        "temp = pd.concat([temp, raw[label_cols]], axis=1)\n",
        "\n",
        "temp"
      ],
      "execution_count": null,
      "outputs": []
    },
    {
      "cell_type": "code",
      "metadata": {
        "id": "aOFucuyxtcuB"
      },
      "source": [
        "one_freq_train = temp.iloc[[217,390,338,392,271,250,29,151,412,67,98,110,28,13,193,90,288,228,267,61],:]\n",
        "one_freq_test = temp.iloc[[217,390,338,392,413,351,217,415,452,437,348,159,33,260,337,96,291,234,281,147],:]"
      ],
      "execution_count": null,
      "outputs": []
    },
    {
      "cell_type": "code",
      "metadata": {
        "id": "NtM0yANyt4Za"
      },
      "source": [
        "temp = temp.drop(temp.index[[217,390,338,392,271,250,29,151,412,67,98,110,28,13,193,90,288,413,351,217,415,452,437,348,159,33,260,337,96,291,228,267,61,234,281,147]])"
      ],
      "execution_count": null,
      "outputs": []
    },
    {
      "cell_type": "code",
      "metadata": {
        "id": "nbZsr8S5f6e0"
      },
      "source": [
        "training_size = 80\n",
        "test_size = 20\n",
        "\n",
        "numTrain = int((TOTAL_ISSUE * training_size)/100) - 36\n",
        "numTest = int((TOTAL_ISSUE * test_size)/100)\n",
        "\n",
        "data = temp[:numTrain]\n",
        "data_test = temp[numTrain:-1]"
      ],
      "execution_count": null,
      "outputs": []
    },
    {
      "cell_type": "code",
      "metadata": {
        "id": "L_LHwXkjuOie"
      },
      "source": [
        "data = pd.concat([data, one_freq_train], ignore_index=True)\n",
        "\n",
        "data"
      ],
      "execution_count": null,
      "outputs": []
    },
    {
      "cell_type": "code",
      "metadata": {
        "id": "v3-MwzuTuS5D"
      },
      "source": [
        "data_test = pd.concat([data_test, one_freq_test], ignore_index=True)\n",
        "\n",
        "data_test"
      ],
      "execution_count": null,
      "outputs": []
    },
    {
      "cell_type": "code",
      "metadata": {
        "id": "M0nYL2Dsxqq9"
      },
      "source": [
        "# Name of the BERT model to use\n",
        "model_name = 'bert-base-uncased'\n",
        "\n",
        "# Max length of tokens\n",
        "max_length = 120\n",
        "\n",
        "# Load transformers config and set output_hidden_states to False\n",
        "config = BertConfig.from_pretrained(model_name)\n",
        "config.output_hidden_states = False\n",
        "\n",
        "# Load BERT tokenizer\n",
        "tokenizer = BertTokenizerFast.from_pretrained(pretrained_model_name_or_path = model_name, config = config)\n",
        "\n",
        "# Load the Transformers BERT model\n",
        "transformer_model = TFBertModel.from_pretrained(model_name, config = config)"
      ],
      "execution_count": null,
      "outputs": []
    },
    {
      "cell_type": "code",
      "metadata": {
        "id": "x_JyruOLx0BS"
      },
      "source": [
        "# TF Keras documentation: https://www.tensorflow.org/api_docs/python/tf/keras/Model\n",
        "\n",
        "# Load the MainLayer\n",
        "bert = transformer_model.layers[0]\n",
        "\n",
        "# Build your model input\n",
        "#input_ids = Input(shape=(max_length,), name='input_ids', dtype='int32')\n",
        "#inputs = {'input_ids': input_ids}\n",
        "\n",
        "#use attention masks to gain performance\n",
        "input_ids = Input(shape=(max_length,), name='input_ids', dtype='int32')\n",
        "attention_mask = Input(shape=(max_length,), name='attention_mask', dtype='int32')\n",
        "inputs = {'input_ids': input_ids, 'attention_mask': attention_mask}\n",
        "\n",
        "# Load the Transformers BERT model as a layer in a Keras model\n",
        "bert_model = bert(inputs)[1]\n",
        "dropout = Dropout(config.hidden_dropout_prob, name='pooled_output')\n",
        "pooled_output = dropout(bert_model, training=False)\n",
        "\n",
        "# Then build your model output\n",
        "R1=Dense(units=len(data.R1.value_counts()), kernel_initializer=TruncatedNormal(stddev=config.initializer_range), name='R1')(pooled_output)\n",
        "R2=Dense(units=len(data.R2.value_counts()), kernel_initializer=TruncatedNormal(stddev=config.initializer_range), name='R2')(pooled_output)\n",
        "R3=Dense(units=len(data.R3.value_counts()), kernel_initializer=TruncatedNormal(stddev=config.initializer_range), name='R3')(pooled_output)\n",
        "R4=Dense(units=len(data.R4.value_counts()), kernel_initializer=TruncatedNormal(stddev=config.initializer_range), name='R4')(pooled_output)\n",
        "R5=Dense(units=len(data.R5.value_counts()), kernel_initializer=TruncatedNormal(stddev=config.initializer_range), name='R5')(pooled_output)\n",
        "R6=Dense(units=len(data.R6.value_counts()), kernel_initializer=TruncatedNormal(stddev=config.initializer_range), name='R6')(pooled_output)\n",
        "R7=Dense(units=len(data.R7.value_counts()), kernel_initializer=TruncatedNormal(stddev=config.initializer_range), name='R7')(pooled_output)\n",
        "R8=Dense(units=len(data.R8.value_counts()), kernel_initializer=TruncatedNormal(stddev=config.initializer_range), name='R8')(pooled_output)\n",
        "R9=Dense(units=len(data.R9.value_counts()), kernel_initializer=TruncatedNormal(stddev=config.initializer_range), name='R9')(pooled_output)\n",
        "R10=Dense(units=len(data.R10.value_counts()), kernel_initializer=TruncatedNormal(stddev=config.initializer_range), name='R10')(pooled_output)\n",
        "R11=Dense(units=len(data.R11.value_counts()), kernel_initializer=TruncatedNormal(stddev=config.initializer_range), name='R11')(pooled_output)\n",
        "R12=Dense(units=len(data.R12.value_counts()), kernel_initializer=TruncatedNormal(stddev=config.initializer_range), name='R12')(pooled_output)\n",
        "R13=Dense(units=len(data.R13.value_counts()), kernel_initializer=TruncatedNormal(stddev=config.initializer_range), name='R13')(pooled_output)\n",
        "R14=Dense(units=len(data.R14.value_counts()), kernel_initializer=TruncatedNormal(stddev=config.initializer_range), name='R14')(pooled_output)\n",
        "R15=Dense(units=len(data.R15.value_counts()), kernel_initializer=TruncatedNormal(stddev=config.initializer_range), name='R15')(pooled_output)\n",
        "R16=Dense(units=len(data.R16.value_counts()), kernel_initializer=TruncatedNormal(stddev=config.initializer_range), name='R16')(pooled_output)\n",
        "R17=Dense(units=len(data.R17.value_counts()), kernel_initializer=TruncatedNormal(stddev=config.initializer_range), name='R17')(pooled_output)\n",
        "R18=Dense(units=len(data.R18.value_counts()), kernel_initializer=TruncatedNormal(stddev=config.initializer_range), name='R18')(pooled_output)\n",
        "R19=Dense(units=len(data.R19.value_counts()), kernel_initializer=TruncatedNormal(stddev=config.initializer_range), name='R19')(pooled_output)\n",
        "R20=Dense(units=len(data.R20.value_counts()), kernel_initializer=TruncatedNormal(stddev=config.initializer_range), name='R20')(pooled_output)\n",
        "R21=Dense(units=len(data.R21.value_counts()), kernel_initializer=TruncatedNormal(stddev=config.initializer_range), name='R21')(pooled_output)\n",
        "R22=Dense(units=len(data.R22.value_counts()), kernel_initializer=TruncatedNormal(stddev=config.initializer_range), name='R22')(pooled_output)\n",
        "R23=Dense(units=len(data.R23.value_counts()), kernel_initializer=TruncatedNormal(stddev=config.initializer_range), name='R23')(pooled_output)\n",
        "R24=Dense(units=len(data.R24.value_counts()), kernel_initializer=TruncatedNormal(stddev=config.initializer_range), name='R24')(pooled_output)\n",
        "R25=Dense(units=len(data.R25.value_counts()), kernel_initializer=TruncatedNormal(stddev=config.initializer_range), name='R25')(pooled_output)\n",
        "R26=Dense(units=len(data.R26.value_counts()), kernel_initializer=TruncatedNormal(stddev=config.initializer_range), name='R26')(pooled_output)\n",
        "R27=Dense(units=len(data.R27.value_counts()), kernel_initializer=TruncatedNormal(stddev=config.initializer_range), name='R27')(pooled_output)\n",
        "R28=Dense(units=len(data.R28.value_counts()), kernel_initializer=TruncatedNormal(stddev=config.initializer_range), name='R28')(pooled_output)\n",
        "R29=Dense(units=len(data.R29.value_counts()), kernel_initializer=TruncatedNormal(stddev=config.initializer_range), name='R29')(pooled_output)\n",
        "R30=Dense(units=len(data.R30.value_counts()), kernel_initializer=TruncatedNormal(stddev=config.initializer_range), name='R30')(pooled_output)\n",
        "R31=Dense(units=len(data.R31.value_counts()), kernel_initializer=TruncatedNormal(stddev=config.initializer_range), name='R31')(pooled_output)\n",
        "R32=Dense(units=len(data.R32.value_counts()), kernel_initializer=TruncatedNormal(stddev=config.initializer_range), name='R32')(pooled_output)\n",
        "R33=Dense(units=len(data.R33.value_counts()), kernel_initializer=TruncatedNormal(stddev=config.initializer_range), name='R33')(pooled_output)\n",
        "R34=Dense(units=len(data.R34.value_counts()), kernel_initializer=TruncatedNormal(stddev=config.initializer_range), name='R34')(pooled_output)\n",
        "R35=Dense(units=len(data.R35.value_counts()), kernel_initializer=TruncatedNormal(stddev=config.initializer_range), name='R35')(pooled_output)\n",
        "R36=Dense(units=len(data.R36.value_counts()), kernel_initializer=TruncatedNormal(stddev=config.initializer_range), name='R36')(pooled_output)\n",
        "R37=Dense(units=len(data.R37.value_counts()), kernel_initializer=TruncatedNormal(stddev=config.initializer_range), name='R37')(pooled_output)\n",
        "R38=Dense(units=len(data.R38.value_counts()), kernel_initializer=TruncatedNormal(stddev=config.initializer_range), name='R38')(pooled_output)\n",
        "R39=Dense(units=len(data.R39.value_counts()), kernel_initializer=TruncatedNormal(stddev=config.initializer_range), name='R39')(pooled_output)\n",
        "R40=Dense(units=len(data.R40.value_counts()), kernel_initializer=TruncatedNormal(stddev=config.initializer_range), name='R40')(pooled_output)\n",
        "R41=Dense(units=len(data.R41.value_counts()), kernel_initializer=TruncatedNormal(stddev=config.initializer_range), name='R41')(pooled_output)\n",
        "R42=Dense(units=len(data.R42.value_counts()), kernel_initializer=TruncatedNormal(stddev=config.initializer_range), name='R42')(pooled_output)\n",
        "R43=Dense(units=len(data.R43.value_counts()), kernel_initializer=TruncatedNormal(stddev=config.initializer_range), name='R43')(pooled_output)\n",
        "R44=Dense(units=len(data.R44.value_counts()), kernel_initializer=TruncatedNormal(stddev=config.initializer_range), name='R44')(pooled_output)\n",
        "R45=Dense(units=len(data.R45.value_counts()), kernel_initializer=TruncatedNormal(stddev=config.initializer_range), name='R45')(pooled_output)\n",
        "R46=Dense(units=len(data.R46.value_counts()), kernel_initializer=TruncatedNormal(stddev=config.initializer_range), name='R46')(pooled_output)\n",
        "R47=Dense(units=len(data.R47.value_counts()), kernel_initializer=TruncatedNormal(stddev=config.initializer_range), name='R47')(pooled_output)\n",
        "R48=Dense(units=len(data.R48.value_counts()), kernel_initializer=TruncatedNormal(stddev=config.initializer_range), name='R48')(pooled_output)\n",
        "R49=Dense(units=len(data.R49.value_counts()), kernel_initializer=TruncatedNormal(stddev=config.initializer_range), name='R49')(pooled_output)\n",
        "R50=Dense(units=len(data.R50.value_counts()), kernel_initializer=TruncatedNormal(stddev=config.initializer_range), name='R50')(pooled_output)\n",
        "R51=Dense(units=len(data.R51.value_counts()), kernel_initializer=TruncatedNormal(stddev=config.initializer_range), name='R51')(pooled_output)\n",
        "R52=Dense(units=len(data.R52.value_counts()), kernel_initializer=TruncatedNormal(stddev=config.initializer_range), name='R52')(pooled_output)\n",
        "R53=Dense(units=len(data.R53.value_counts()), kernel_initializer=TruncatedNormal(stddev=config.initializer_range), name='R53')(pooled_output)\n",
        "R54=Dense(units=len(data.R54.value_counts()), kernel_initializer=TruncatedNormal(stddev=config.initializer_range), name='R54')(pooled_output)\n",
        "R55=Dense(units=len(data.R55.value_counts()), kernel_initializer=TruncatedNormal(stddev=config.initializer_range), name='R55')(pooled_output)\n",
        "R56=Dense(units=len(data.R56.value_counts()), kernel_initializer=TruncatedNormal(stddev=config.initializer_range), name='R56')(pooled_output)\n",
        "R57=Dense(units=len(data.R57.value_counts()), kernel_initializer=TruncatedNormal(stddev=config.initializer_range), name='R57')(pooled_output)\n",
        "R58=Dense(units=len(data.R58.value_counts()), kernel_initializer=TruncatedNormal(stddev=config.initializer_range), name='R58')(pooled_output)\n",
        "R59=Dense(units=len(data.R59.value_counts()), kernel_initializer=TruncatedNormal(stddev=config.initializer_range), name='R59')(pooled_output)\n",
        "R60=Dense(units=len(data.R60.value_counts()), kernel_initializer=TruncatedNormal(stddev=config.initializer_range), name='R60')(pooled_output)\n",
        "R61=Dense(units=len(data.R61.value_counts()), kernel_initializer=TruncatedNormal(stddev=config.initializer_range), name='R61')(pooled_output)\n",
        "R62=Dense(units=len(data.R62.value_counts()), kernel_initializer=TruncatedNormal(stddev=config.initializer_range), name='R62')(pooled_output)\n",
        "R63=Dense(units=len(data.R63.value_counts()), kernel_initializer=TruncatedNormal(stddev=config.initializer_range), name='R63')(pooled_output)\n",
        "R64=Dense(units=len(data.R64.value_counts()), kernel_initializer=TruncatedNormal(stddev=config.initializer_range), name='R64')(pooled_output)\n",
        "R65=Dense(units=len(data.R65.value_counts()), kernel_initializer=TruncatedNormal(stddev=config.initializer_range), name='R65')(pooled_output)\n",
        "R66=Dense(units=len(data.R66.value_counts()), kernel_initializer=TruncatedNormal(stddev=config.initializer_range), name='R66')(pooled_output)\n",
        "R67=Dense(units=len(data.R67.value_counts()), kernel_initializer=TruncatedNormal(stddev=config.initializer_range), name='R67')(pooled_output)\n",
        "R68=Dense(units=len(data.R68.value_counts()), kernel_initializer=TruncatedNormal(stddev=config.initializer_range), name='R68')(pooled_output)\n",
        "R69=Dense(units=len(data.R69.value_counts()), kernel_initializer=TruncatedNormal(stddev=config.initializer_range), name='R69')(pooled_output)\n",
        "R70=Dense(units=len(data.R70.value_counts()), kernel_initializer=TruncatedNormal(stddev=config.initializer_range), name='R70')(pooled_output)\n",
        "R71=Dense(units=len(data.R71.value_counts()), kernel_initializer=TruncatedNormal(stddev=config.initializer_range), name='R71')(pooled_output)\n",
        "\n",
        "\n",
        "#outputs = {'cat1': cat1, 'cat2': cat2, 'cat3': cat3, 'cat4': cat4, 'cat5': cat5, 'cat6': cat6}\n",
        "outputs = {'R1': R1,\n",
        "'R2': R2,\n",
        "'R3': R3,\n",
        "'R4': R4,\n",
        "'R5': R5,\n",
        "'R6': R6,\n",
        "'R7': R7,\n",
        "'R8': R8,\n",
        "'R9': R9,\n",
        "'R10': R10,\n",
        "'R11': R11,\n",
        "'R12': R12,\n",
        "'R13': R13,\n",
        "'R14': R14,\n",
        "'R15': R15,\n",
        "'R16': R16,\n",
        "'R17': R17,\n",
        "'R18': R18,\n",
        "'R19': R19,\n",
        "'R20': R20,\n",
        "'R21': R21,\n",
        "'R22': R22,\n",
        "'R23': R23,\n",
        "'R24': R24,\n",
        "'R25': R25,\n",
        "'R26': R26,\n",
        "'R27': R27,\n",
        "'R28': R28,\n",
        "'R29': R29,\n",
        "'R30': R30,\n",
        "'R31': R31,\n",
        "'R32': R32,\n",
        "'R33': R33,\n",
        "'R34': R34,\n",
        "'R35': R35,\n",
        "'R36': R36,\n",
        "'R37': R37,\n",
        "'R38': R38,\n",
        "'R39': R39,\n",
        "'R40': R40,\n",
        "'R41': R41,\n",
        "'R42': R42,\n",
        "'R43': R43,\n",
        "'R44': R44,\n",
        "'R45': R45,\n",
        "'R46': R46,\n",
        "'R47': R47,\n",
        "'R48': R48,\n",
        "'R49': R49,\n",
        "'R50': R50,\n",
        "'R51': R51,\n",
        "'R52': R52,\n",
        "'R53': R53,\n",
        "'R54': R54,\n",
        "'R55': R55,\n",
        "'R56': R56,\n",
        "'R57': R57,\n",
        "'R58': R58,\n",
        "'R59': R59,\n",
        "'R60': R60,\n",
        "'R61': R61,\n",
        "'R62': R62,\n",
        "'R63': R63,\n",
        "'R64': R64,\n",
        "'R65': R65,\n",
        "'R66': R66,\n",
        "'R67': R67,\n",
        "'R68': R68,\n",
        "'R69': R69,\n",
        "'R70': R70,\n",
        "'R71': R71}\n",
        "\n",
        "# And combine it all in a model object\n",
        "model = Model(inputs=inputs, outputs=outputs, name='BERT_MultiLabel_MultiClass')\n",
        "\n",
        "# Take a look at the model\n",
        "model.summary()\n"
      ],
      "execution_count": null,
      "outputs": []
    },
    {
      "cell_type": "code",
      "metadata": {
        "id": "tp1LzVuvH1Ek"
      },
      "source": [
        "def recall_m(y_true, y_pred):\n",
        "        true_positives = K.sum(K.round(K.clip(y_true * y_pred, 0, 1)))\n",
        "        possible_positives = K.sum(K.round(K.clip(y_true, 0, 1)))\n",
        "        recall = true_positives / (possible_positives + K.epsilon())\n",
        "        return recall\n",
        "\n",
        "def precision_m(y_true, y_pred):\n",
        "        true_positives = K.sum(K.round(K.clip(y_true * y_pred, 0, 1)))\n",
        "        predicted_positives = K.sum(K.round(K.clip(y_pred, 0, 1)))\n",
        "        precision = true_positives / (predicted_positives + K.epsilon())\n",
        "        return precision\n",
        "\n",
        "def f1_m(y_true, y_pred):\n",
        "    precision = precision_m(y_true, y_pred)\n",
        "    recall = recall_m(y_true, y_pred)\n",
        "    return 2*((precision*recall)/(precision+recall+K.epsilon()))"
      ],
      "execution_count": null,
      "outputs": []
    },
    {
      "cell_type": "code",
      "metadata": {
        "id": "607fAvMg7vAq"
      },
      "source": [
        "# Set an optimizer\n",
        "optimizer = Adam(\n",
        "    learning_rate=5e-05,\n",
        "    epsilon=1e-08,\n",
        "    decay=0.01,\n",
        "    clipnorm=1.0)\n",
        "\n",
        "# Compile the model\n",
        "model.compile(\n",
        "    optimizer = optimizer,\n",
        "    loss = BinaryCrossentropy(from_logits = False), \n",
        "    metrics = [BinaryAccuracy(), precision_m, recall_m, f1_m])\n",
        "    #loss = CategoricalCrossentropy(from_logits = True), \n",
        "    #metrics = [CategoricalAccuracy(), precision_m, recall_m, f1_m])\n",
        "\n",
        "# Ready output data for the model\n",
        "y_R1=to_categorical(data['R1'])\n",
        "y_R2=to_categorical(data['R2'])\n",
        "y_R3=to_categorical(data['R3'])\n",
        "y_R4=to_categorical(data['R4'])\n",
        "y_R5=to_categorical(data['R5'])\n",
        "y_R6=to_categorical(data['R6'])\n",
        "y_R7=to_categorical(data['R7'])\n",
        "y_R8=to_categorical(data['R8'])\n",
        "y_R9=to_categorical(data['R9'])\n",
        "y_R10=to_categorical(data['R10'])\n",
        "y_R11=to_categorical(data['R11'])\n",
        "y_R12=to_categorical(data['R12'])\n",
        "y_R13=to_categorical(data['R13'])\n",
        "y_R14=to_categorical(data['R14'])\n",
        "y_R15=to_categorical(data['R15'])\n",
        "y_R16=to_categorical(data['R16'])\n",
        "y_R17=to_categorical(data['R17'])\n",
        "y_R18=to_categorical(data['R18'])\n",
        "y_R19=to_categorical(data['R19'])\n",
        "y_R20=to_categorical(data['R20'])\n",
        "y_R21=to_categorical(data['R21'])\n",
        "y_R22=to_categorical(data['R22'])\n",
        "y_R23=to_categorical(data['R23'])\n",
        "y_R24=to_categorical(data['R24'])\n",
        "y_R25=to_categorical(data['R25'])\n",
        "y_R26=to_categorical(data['R26'])\n",
        "y_R27=to_categorical(data['R27'])\n",
        "y_R28=to_categorical(data['R28'])\n",
        "y_R29=to_categorical(data['R29'])\n",
        "y_R30=to_categorical(data['R30'])\n",
        "y_R31=to_categorical(data['R31'])\n",
        "y_R32=to_categorical(data['R32'])\n",
        "y_R33=to_categorical(data['R33'])\n",
        "y_R34=to_categorical(data['R34'])\n",
        "y_R35=to_categorical(data['R35'])\n",
        "y_R36=to_categorical(data['R36'])\n",
        "y_R37=to_categorical(data['R37'])\n",
        "y_R38=to_categorical(data['R38'])\n",
        "y_R39=to_categorical(data['R39'])\n",
        "y_R40=to_categorical(data['R40'])\n",
        "y_R41=to_categorical(data['R41'])\n",
        "y_R42=to_categorical(data['R42'])\n",
        "y_R43=to_categorical(data['R43'])\n",
        "y_R44=to_categorical(data['R44'])\n",
        "y_R45=to_categorical(data['R45'])\n",
        "y_R46=to_categorical(data['R46'])\n",
        "y_R47=to_categorical(data['R47'])\n",
        "y_R48=to_categorical(data['R48'])\n",
        "y_R49=to_categorical(data['R49'])\n",
        "y_R50=to_categorical(data['R50'])\n",
        "y_R51=to_categorical(data['R51'])\n",
        "y_R52=to_categorical(data['R52'])\n",
        "y_R53=to_categorical(data['R53'])\n",
        "y_R54=to_categorical(data['R54'])\n",
        "y_R55=to_categorical(data['R55'])\n",
        "y_R56=to_categorical(data['R56'])\n",
        "y_R57=to_categorical(data['R57'])\n",
        "y_R58=to_categorical(data['R58'])\n",
        "y_R59=to_categorical(data['R59'])\n",
        "y_R60=to_categorical(data['R60'])\n",
        "y_R61=to_categorical(data['R61'])\n",
        "y_R62=to_categorical(data['R62'])\n",
        "y_R63=to_categorical(data['R63'])\n",
        "y_R64=to_categorical(data['R64'])\n",
        "y_R65=to_categorical(data['R65'])\n",
        "y_R66=to_categorical(data['R66'])\n",
        "y_R67=to_categorical(data['R67'])\n",
        "y_R68=to_categorical(data['R68'])\n",
        "y_R69=to_categorical(data['R69'])\n",
        "y_R70=to_categorical(data['R70'])\n",
        "y_R71=to_categorical(data['R71'])\n",
        "\n",
        "# Tokenize the input (takes some time)\n",
        "x = tokenizer(\n",
        "    text=data['titledesc'].to_list(),\n",
        "    add_special_tokens=True,\n",
        "    max_length=max_length,\n",
        "    truncation=True,\n",
        "    padding=True, \n",
        "    return_tensors='tf',\n",
        "    return_token_type_ids = False,\n",
        "    return_attention_mask = True,\n",
        "    verbose = True)\n"
      ],
      "execution_count": null,
      "outputs": []
    },
    {
      "cell_type": "code",
      "metadata": {
        "id": "WC4wwpY30ooo"
      },
      "source": [
        "# Fit the model\n",
        "history = model.fit(\n",
        "    #x={'input_ids': x['input_ids']},\n",
        "    x={'input_ids': x['input_ids'], 'attention_mask': x['attention_mask']},\n",
        "    y={'R1': y_R1,\n",
        "        'R2': y_R2,\n",
        "        'R3': y_R3,\n",
        "        'R4': y_R4,\n",
        "        'R5': y_R5,\n",
        "        'R6': y_R6,\n",
        "        'R7': y_R7,\n",
        "        'R8': y_R8,\n",
        "        'R9': y_R9,\n",
        "        'R10': y_R10,\n",
        "        'R11': y_R11,\n",
        "        'R12': y_R12,\n",
        "        'R13': y_R13,\n",
        "        'R14': y_R14,\n",
        "        'R15': y_R15,\n",
        "        'R16': y_R16,\n",
        "        'R17': y_R17,\n",
        "        'R18': y_R18,\n",
        "        'R19': y_R19,\n",
        "        'R20': y_R20,\n",
        "        'R21': y_R21,\n",
        "        'R22': y_R22,\n",
        "        'R23': y_R23,\n",
        "        'R24': y_R24,\n",
        "        'R25': y_R25,\n",
        "        'R26': y_R26,\n",
        "        'R27': y_R27,\n",
        "        'R28': y_R28,\n",
        "        'R29': y_R29,\n",
        "        'R30': y_R30,\n",
        "        'R31': y_R31,\n",
        "        'R32': y_R32,\n",
        "        'R33': y_R33,\n",
        "        'R34': y_R34,\n",
        "        'R35': y_R35,\n",
        "        'R36': y_R36,\n",
        "        'R37': y_R37,\n",
        "        'R38': y_R38,\n",
        "        'R39': y_R39,\n",
        "        'R40': y_R40,\n",
        "        'R41': y_R41,\n",
        "        'R42': y_R42,\n",
        "        'R43': y_R43,\n",
        "        'R44': y_R44,\n",
        "        'R45': y_R45,\n",
        "        'R46': y_R46,\n",
        "        'R47': y_R47,\n",
        "        'R48': y_R48,\n",
        "        'R49': y_R49,\n",
        "        'R50': y_R50,\n",
        "        'R51': y_R51,\n",
        "        'R52': y_R52,\n",
        "        'R53': y_R53,\n",
        "        'R54': y_R54,\n",
        "        'R55': y_R55,\n",
        "        'R56': y_R56,\n",
        "        'R57': y_R57,\n",
        "        'R58': y_R58,\n",
        "        'R59': y_R59,\n",
        "        'R60': y_R60,\n",
        "        'R61': y_R61,\n",
        "        'R62': y_R62,\n",
        "        'R63': y_R63,\n",
        "        'R64': y_R64,\n",
        "        'R65': y_R65,\n",
        "        'R66': y_R66,\n",
        "        'R67': y_R67,\n",
        "        'R68': y_R68,\n",
        "        'R69': y_R69,\n",
        "        'R70': y_R70,\n",
        "        'R71': y_R71},\n",
        "    validation_split=0.2,\n",
        "    batch_size=64,\n",
        "    epochs=60)\n"
      ],
      "execution_count": null,
      "outputs": []
    },
    {
      "cell_type": "code",
      "metadata": {
        "id": "gcdR4VTsH_eK"
      },
      "source": [
        "#save training results\n",
        "history_df = pd.DataFrame(history.history)\n",
        "\n",
        "#set file name\n",
        "history_df.to_csv('Moodle-req-history.csv')\n",
        "\n",
        "#save file - need to specify output path\n",
        "!cp Moodle-req-history.csv 'path+filename'"
      ],
      "execution_count": null,
      "outputs": []
    },
    {
      "cell_type": "code",
      "metadata": {
        "id": "Q_xRVyYnQ2_Q"
      },
      "source": [
        "# Ready test data\n",
        "test_y_R1=to_categorical(data_test['R1'])\n",
        "test_y_R2=to_categorical(data_test['R2'])\n",
        "test_y_R3=to_categorical(data_test['R3'])\n",
        "test_y_R4=to_categorical(data_test['R4'])\n",
        "test_y_R5=to_categorical(data_test['R5'])\n",
        "test_y_R6=to_categorical(data_test['R6'])\n",
        "test_y_R7=to_categorical(data_test['R7'])\n",
        "test_y_R8=to_categorical(data_test['R8'])\n",
        "test_y_R9=to_categorical(data_test['R9'])\n",
        "test_y_R10=to_categorical(data_test['R10'])\n",
        "test_y_R11=to_categorical(data_test['R11'])\n",
        "test_y_R12=to_categorical(data_test['R12'])\n",
        "test_y_R13=to_categorical(data_test['R13'])\n",
        "test_y_R14=to_categorical(data_test['R14'])\n",
        "test_y_R15=to_categorical(data_test['R15'])\n",
        "test_y_R16=to_categorical(data_test['R16'])\n",
        "test_y_R17=to_categorical(data_test['R17'])\n",
        "test_y_R18=to_categorical(data_test['R18'])\n",
        "test_y_R19=to_categorical(data_test['R19'])\n",
        "test_y_R20=to_categorical(data_test['R20'])\n",
        "test_y_R21=to_categorical(data_test['R21'])\n",
        "test_y_R22=to_categorical(data_test['R22'])\n",
        "test_y_R23=to_categorical(data_test['R23'])\n",
        "test_y_R24=to_categorical(data_test['R24'])\n",
        "test_y_R25=to_categorical(data_test['R25'])\n",
        "test_y_R26=to_categorical(data_test['R26'])\n",
        "test_y_R27=to_categorical(data_test['R27'])\n",
        "test_y_R28=to_categorical(data_test['R28'])\n",
        "test_y_R29=to_categorical(data_test['R29'])\n",
        "test_y_R30=to_categorical(data_test['R30'])\n",
        "test_y_R31=to_categorical(data_test['R31'])\n",
        "test_y_R32=to_categorical(data_test['R32'])\n",
        "test_y_R33=to_categorical(data_test['R33'])\n",
        "test_y_R34=to_categorical(data_test['R34'])\n",
        "test_y_R35=to_categorical(data_test['R35'])\n",
        "test_y_R36=to_categorical(data_test['R36'])\n",
        "test_y_R37=to_categorical(data_test['R37'])\n",
        "test_y_R38=to_categorical(data_test['R38'])\n",
        "test_y_R39=to_categorical(data_test['R39'])\n",
        "test_y_R40=to_categorical(data_test['R40'])\n",
        "test_y_R41=to_categorical(data_test['R41'])\n",
        "test_y_R42=to_categorical(data_test['R42'])\n",
        "test_y_R43=to_categorical(data_test['R43'])\n",
        "test_y_R44=to_categorical(data_test['R44'])\n",
        "test_y_R45=to_categorical(data_test['R45'])\n",
        "test_y_R46=to_categorical(data_test['R46'])\n",
        "test_y_R47=to_categorical(data_test['R47'])\n",
        "test_y_R48=to_categorical(data_test['R48'])\n",
        "test_y_R49=to_categorical(data_test['R49'])\n",
        "test_y_R50=to_categorical(data_test['R50'])\n",
        "test_y_R51=to_categorical(data_test['R51'])\n",
        "test_y_R52=to_categorical(data_test['R52'])\n",
        "test_y_R53=to_categorical(data_test['R53'])\n",
        "test_y_R54=to_categorical(data_test['R54'])\n",
        "test_y_R55=to_categorical(data_test['R55'])\n",
        "test_y_R56=to_categorical(data_test['R56'])\n",
        "test_y_R57=to_categorical(data_test['R57'])\n",
        "test_y_R58=to_categorical(data_test['R58'])\n",
        "test_y_R59=to_categorical(data_test['R59'])\n",
        "test_y_R60=to_categorical(data_test['R60'])\n",
        "test_y_R61=to_categorical(data_test['R61'])\n",
        "test_y_R62=to_categorical(data_test['R62'])\n",
        "test_y_R63=to_categorical(data_test['R63'])\n",
        "test_y_R64=to_categorical(data_test['R64'])\n",
        "test_y_R65=to_categorical(data_test['R65'])\n",
        "test_y_R66=to_categorical(data_test['R66'])\n",
        "test_y_R67=to_categorical(data_test['R67'])\n",
        "test_y_R68=to_categorical(data_test['R68'])\n",
        "test_y_R69=to_categorical(data_test['R69'])\n",
        "test_y_R70=to_categorical(data_test['R70'])\n",
        "test_y_R71=to_categorical(data_test['R71'])\n",
        "\n",
        "test_x = tokenizer(\n",
        "    text=data_test['titledesc'].to_list(),\n",
        "    add_special_tokens=True,\n",
        "    max_length=max_length,\n",
        "    truncation=True,\n",
        "    padding=True, \n",
        "    return_tensors='tf',\n",
        "    return_token_type_ids = False,\n",
        "    return_attention_mask = True,\n",
        "    verbose = True)\n",
        "\n",
        "# Run evaluation\n",
        "model_eval = model.evaluate(\n",
        "    x={'input_ids': test_x['input_ids'], 'attention_mask': test_x['attention_mask']},\n",
        "    y={'R1': test_y_R1,\n",
        "        'R2': test_y_R2,\n",
        "        'R3': test_y_R3,\n",
        "        'R4': test_y_R4,\n",
        "        'R5': test_y_R5,\n",
        "        'R6': test_y_R6,\n",
        "        'R7': test_y_R7,\n",
        "        'R8': test_y_R8,\n",
        "        'R9': test_y_R9,\n",
        "        'R10': test_y_R10,\n",
        "        'R11': test_y_R11,\n",
        "        'R12': test_y_R12,\n",
        "        'R13': test_y_R13,\n",
        "        'R14': test_y_R14,\n",
        "        'R15': test_y_R15,\n",
        "        'R16': test_y_R16,\n",
        "        'R17': test_y_R17,\n",
        "        'R18': test_y_R18,\n",
        "        'R19': test_y_R19,\n",
        "        'R20': test_y_R20,\n",
        "        'R21': test_y_R21,\n",
        "        'R22': test_y_R22,\n",
        "        'R23': test_y_R23,\n",
        "        'R24': test_y_R24,\n",
        "        'R25': test_y_R25,\n",
        "        'R26': test_y_R26,\n",
        "        'R27': test_y_R27,\n",
        "        'R28': test_y_R28,\n",
        "        'R29': test_y_R29,\n",
        "        'R30': test_y_R30,\n",
        "        'R31': test_y_R31,\n",
        "        'R32': test_y_R32,\n",
        "        'R33': test_y_R33,\n",
        "        'R34': test_y_R34,\n",
        "        'R35': test_y_R35,\n",
        "        'R36': test_y_R36,\n",
        "        'R37': test_y_R37,\n",
        "        'R38': test_y_R38,\n",
        "        'R39': test_y_R39,\n",
        "        'R40': test_y_R40,\n",
        "        'R41': test_y_R41,\n",
        "        'R42': test_y_R42,\n",
        "        'R43': test_y_R43,\n",
        "        'R44': test_y_R44,\n",
        "        'R45': test_y_R45,\n",
        "        'R46': test_y_R46,\n",
        "        'R47': test_y_R47,\n",
        "        'R48': test_y_R48,\n",
        "        'R49': test_y_R49,\n",
        "        'R50': test_y_R50,\n",
        "        'R51': test_y_R51,\n",
        "        'R52': test_y_R52,\n",
        "        'R53': test_y_R53,\n",
        "        'R54': test_y_R54,\n",
        "        'R55': test_y_R55,\n",
        "        'R56': test_y_R56,\n",
        "        'R57': test_y_R57,\n",
        "        'R58': test_y_R58,\n",
        "        'R59': test_y_R59,\n",
        "        'R60': test_y_R60,\n",
        "        'R61': test_y_R61,\n",
        "        'R62': test_y_R62,\n",
        "        'R63': test_y_R63,\n",
        "        'R64': test_y_R64,\n",
        "        'R65': test_y_R65,\n",
        "        'R66': test_y_R66,\n",
        "        'R67': test_y_R67,\n",
        "        'R68': test_y_R68,\n",
        "        'R69': test_y_R69,\n",
        "        'R70': test_y_R70,\n",
        "        'R71': test_y_R71}\n",
        ")"
      ],
      "execution_count": null,
      "outputs": []
    },
    {
      "cell_type": "code",
      "metadata": {
        "id": "49jhwg8BIJVC"
      },
      "source": [
        "#save evaluation results\n",
        "model_eval_df = pd.DataFrame(model_eval)\n",
        "\n",
        "#set file name\n",
        "model_eval_df.to_csv('Moodle-req-model_eval.csv')\n",
        "\n",
        "#save file - need to specify output path\n",
        "!cp Moodle-req-model_eval.csv 'path+filename'"
      ],
      "execution_count": null,
      "outputs": []
    },
    {
      "cell_type": "markdown",
      "metadata": {
        "id": "GjVGtPp6nuYA"
      },
      "source": [
        "Working on y_pred_onehot"
      ]
    },
    {
      "cell_type": "code",
      "metadata": {
        "id": "kIAAgFlkpqu4"
      },
      "source": [
        "pred_model = model.predict({'input_ids': test_x['input_ids'], 'attention_mask': test_x['attention_mask']})"
      ],
      "execution_count": null,
      "outputs": []
    },
    {
      "cell_type": "code",
      "metadata": {
        "id": "RHlJY0RkZSPb"
      },
      "source": [
        "column_names = label_cols.to_list()\n",
        "pred_by_issue = pd.DataFrame(data=None, columns=column_names)\n",
        "\n",
        "#pred_by_issue = pd.DataFrame(data=None, columns=['y_pred_label'])\n",
        "\n",
        "for i in range(len(data_test)):\n",
        "  cls_list = []\n",
        "  for req in label_cols:\n",
        "    pred_cls = np.argmax(pred_model[req][i], axis = 0)\n",
        "    #print(i, req, pred_cls)\n",
        "    cls_list.append(pred_cls)\n",
        "  \n",
        "  pred_by_issue.loc[i] = cls_list\n",
        "  \n",
        "#pred_by_issue.loc[i] = pd.DataFrame(np.array(cls_list).reshape(1,71), columns = column_names)\n",
        "#pred_by_issue.loc[i] = pd.DataFrame(cls_list)\n",
        "#pred_by_issue.loc[i] = pd.DataFrame(np.array(cls_list).reshape(1,1), columns = column_names)"
      ],
      "execution_count": null,
      "outputs": []
    },
    {
      "cell_type": "code",
      "metadata": {
        "id": "JQH7nQW6gLZS"
      },
      "source": [
        "pred_by_issue"
      ],
      "execution_count": null,
      "outputs": []
    },
    {
      "cell_type": "code",
      "metadata": {
        "id": "oUubvlVrBcxr"
      },
      "source": [
        "y_pred_onehot = pred_by_issue.to_numpy(dtype=np.int64)"
      ],
      "execution_count": null,
      "outputs": []
    },
    {
      "cell_type": "code",
      "metadata": {
        "id": "8kvv752vf_vi"
      },
      "source": [
        "y_pred_onehot[0]"
      ],
      "execution_count": null,
      "outputs": []
    },
    {
      "cell_type": "markdown",
      "metadata": {
        "id": "JUbRO7KNR6sT"
      },
      "source": [
        "Working on MRR"
      ]
    },
    {
      "cell_type": "code",
      "metadata": {
        "id": "U3IPKB0nHQb-"
      },
      "source": [
        "def evaluate_mrr(data_act, data_est):\n",
        "\n",
        "  #actual = to_categorical(data_act)\n",
        "  actual = data_act\n",
        "  estimate = data_est\n",
        "\n",
        "  sum_rr = 0.0\n",
        "  m = len(actual)\n",
        "  for j in range(len(actual)):\n",
        "        y_true = np.argwhere(actual[j])\n",
        "        y_pred = estimate[j].argsort()[::-1][:]\n",
        "        print('y_true - y_pred: ' , y_true, y_pred)\n",
        "        ranks = []\n",
        "        for idx, i in enumerate(y_pred):\n",
        "            if i in y_true:\n",
        "                ranks.append(idx + 1)\n",
        "        if len(ranks) > 0:\n",
        "            first = ranks[0]\n",
        "            rr = 1 / float(first)\n",
        "            sum_rr += rr\n",
        "\n",
        "  mrr_score = sum_rr / float(m)\n",
        "  return mrr_score"
      ],
      "execution_count": null,
      "outputs": []
    },
    {
      "cell_type": "code",
      "metadata": {
        "id": "HGXzpRZoqD9g"
      },
      "source": [
        "mrr = evaluate_mrr(data_test['one_hot'], y_pred_onehot)"
      ],
      "execution_count": null,
      "outputs": []
    },
    {
      "cell_type": "code",
      "metadata": {
        "id": "iJjohYIjqEmj"
      },
      "source": [
        "mrr"
      ],
      "execution_count": null,
      "outputs": []
    },
    {
      "cell_type": "code",
      "metadata": {
        "id": "dYX-cRByqGrt"
      },
      "source": [
        "mrr_data_df = pd.DataFrame(data=None)\n",
        "\n",
        "mrr_data_df['mrr'] = mrr\n",
        "\n",
        "mrr_data_df.to_csv('Moodle-req-mrr3.csv')\n",
        "!cp Moodle-req-mrr3.csv '/content/drive/MyDrive/UOW/Kookai - PhD Resources/Colab Notebooks/Issue classification - BERT/Data/'"
      ],
      "execution_count": null,
      "outputs": []
    },
    {
      "cell_type": "markdown",
      "metadata": {
        "id": "OImRLHD8EMd4"
      },
      "source": [
        "Working on Recall@k"
      ]
    },
    {
      "cell_type": "code",
      "metadata": {
        "id": "BeB4bcGLUanI"
      },
      "source": [
        "def evaluate_prepare_y(actual, estimate, k):\n",
        "  y_true = np.argwhere(actual)\n",
        "  y_pred = estimate.argsort()[-k:]\n",
        "\n",
        "  return y_true, y_pred"
      ],
      "execution_count": null,
      "outputs": []
    },
    {
      "cell_type": "code",
      "metadata": {
        "id": "GxaCKl1dFXer"
      },
      "source": [
        "def evaluate_recall_at_k(data_act, data_est):\n",
        "  recall_at_k = []\n",
        "  actual = data_act\n",
        "  estimate = data_est\n",
        "\n",
        "  req_num = NUM_LABEL\n",
        "  #print(req_num)\n",
        "\n",
        "  for k in range(req_num):\n",
        "    print((k+1))\n",
        "    sum_recall = 0.0\n",
        "    for j in range(len(actual)):\n",
        "      y_true, y_pred = evaluate_prepare_y(actual[j], estimate[j], (k + 1))\n",
        "      relevant = (y_true == y_pred).sum()\n",
        "      total_relevant = len(y_true)\n",
        "      sum_recall = sum_recall + (float(relevant) / total_relevant)\n",
        "    \n",
        "    recall_at_k.append('%.4f' % (sum_recall / len(actual)))\n",
        "    print('Recall@K: {:.4f}'.format(sum_recall / len(actual)))\n",
        "\n",
        "  return recall_at_k\n"
      ],
      "execution_count": null,
      "outputs": []
    },
    {
      "cell_type": "code",
      "metadata": {
        "id": "7s-qpwXpT9W3"
      },
      "source": [
        "recall_val = evaluate_recall_at_k(data_test['one_hot'], y_pred_onehot)"
      ],
      "execution_count": null,
      "outputs": []
    },
    {
      "cell_type": "code",
      "metadata": {
        "id": "_fZ2p5sbiYcd"
      },
      "source": [
        "recall_df = pd.DataFrame(data=None)\n",
        "\n",
        "recall_df['mrr'] = recall_val\n",
        "\n",
        "#set file name\n",
        "recall_df.to_csv('Moodle-req-recall.csv')\n",
        "\n",
        "#save file - need to specify output path\n",
        "!cp Moodle-req-recall.csv 'path+filename'"
      ],
      "execution_count": null,
      "outputs": []
    }
  ]
}